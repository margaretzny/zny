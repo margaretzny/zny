{
 "cells": [
  {
   "cell_type": "code",
   "execution_count": 16,
   "id": "3663ebcb-ba09-47e1-8bc4-b312689cfab2",
   "metadata": {},
   "outputs": [],
   "source": [
    "mylist = [1,2,3]"
   ]
  },
  {
   "cell_type": "code",
   "execution_count": 18,
   "id": "86f8af32-2c83-43b3-8ba0-caf0520098c4",
   "metadata": {},
   "outputs": [
    {
     "data": {
      "text/plain": [
       "[1, 2, 3]"
      ]
     },
     "execution_count": 18,
     "metadata": {},
     "output_type": "execute_result"
    }
   ],
   "source": [
    "mylist"
   ]
  },
  {
   "cell_type": "code",
   "execution_count": 34,
   "id": "9b67aaf9-a200-46d6-b4f8-947d3f6d4998",
   "metadata": {},
   "outputs": [],
   "source": [
    "myarray = [2,4,6]"
   ]
  },
  {
   "cell_type": "code",
   "execution_count": 20,
   "id": "6d4917f8-3629-419c-a5b0-d18dce7f1a5c",
   "metadata": {},
   "outputs": [],
   "source": [
    "import numpy as np"
   ]
  },
  {
   "cell_type": "code",
   "execution_count": 22,
   "id": "a29a2690-f180-41c8-bb3f-cb0c4613ae4b",
   "metadata": {},
   "outputs": [
    {
     "data": {
      "text/plain": [
       "array([1, 2, 3])"
      ]
     },
     "execution_count": 22,
     "metadata": {},
     "output_type": "execute_result"
    }
   ],
   "source": [
    "np.array(mylist)"
   ]
  },
  {
   "cell_type": "code",
   "execution_count": 24,
   "id": "4f79ce4f-5643-4fa6-a7fe-61ce90dd6cc2",
   "metadata": {},
   "outputs": [],
   "source": [
    "x = np.array(mylist)"
   ]
  },
  {
   "cell_type": "code",
   "execution_count": 36,
   "id": "7a861311-ce89-4483-b333-4497757d67b2",
   "metadata": {},
   "outputs": [
    {
     "data": {
      "text/plain": [
       "6"
      ]
     },
     "execution_count": 36,
     "metadata": {},
     "output_type": "execute_result"
    }
   ],
   "source": [
    "x.sum()"
   ]
  },
  {
   "cell_type": "code",
   "execution_count": 28,
   "id": "9461ccac-74d9-46fc-9087-2d53f208f547",
   "metadata": {},
   "outputs": [
    {
     "name": "stdout",
     "output_type": "stream",
     "text": [
      "6\n"
     ]
    }
   ],
   "source": [
    "print(x.sum())"
   ]
  },
  {
   "cell_type": "code",
   "execution_count": 30,
   "id": "82d29f9e-8b68-4f25-af73-3e838dc8c240",
   "metadata": {},
   "outputs": [
    {
     "data": {
      "text/plain": [
       "[1, 2, 3]"
      ]
     },
     "execution_count": 30,
     "metadata": {},
     "output_type": "execute_result"
    }
   ],
   "source": [
    "mylist"
   ]
  },
  {
   "cell_type": "code",
   "execution_count": 32,
   "id": "9313cd04-ee7a-49c9-ba1b-575269dd7e7f",
   "metadata": {},
   "outputs": [
    {
     "data": {
      "text/plain": [
       "[1, 2, 3, 1, 2, 3]"
      ]
     },
     "execution_count": 32,
     "metadata": {},
     "output_type": "execute_result"
    }
   ],
   "source": [
    "mylist+mylist"
   ]
  },
  {
   "cell_type": "code",
   "execution_count": 56,
   "id": "2056924d-8697-4c7f-9779-d11cb8c289cc",
   "metadata": {},
   "outputs": [
    {
     "data": {
      "text/plain": [
       "[4, 5, 6, 4, 5, 6]"
      ]
     },
     "execution_count": 56,
     "metadata": {},
     "output_type": "execute_result"
    }
   ],
   "source": [
    "myarray+myarray"
   ]
  },
  {
   "cell_type": "code",
   "execution_count": 54,
   "id": "bb39a2bb-d5c9-4a96-995f-116c01e4b6cc",
   "metadata": {},
   "outputs": [
    {
     "ename": "NameError",
     "evalue": "name 'array' is not defined",
     "output_type": "error",
     "traceback": [
      "\u001b[0;31m---------------------------------------------------------------------------\u001b[0m",
      "\u001b[0;31mNameError\u001b[0m                                 Traceback (most recent call last)",
      "Cell \u001b[0;32mIn[54], line 1\u001b[0m\n\u001b[0;32m----> 1\u001b[0m array([\u001b[38;5;241m2\u001b[39m,\u001b[38;5;241m4\u001b[39m,\u001b[38;5;241m6\u001b[39m])\n",
      "\u001b[0;31mNameError\u001b[0m: name 'array' is not defined"
     ]
    }
   ],
   "source": []
  },
  {
   "cell_type": "code",
   "execution_count": null,
   "id": "afc75391-a1f4-4659-8e7e-6f209d3dcfce",
   "metadata": {},
   "outputs": [],
   "source": []
  },
  {
   "cell_type": "code",
   "execution_count": 58,
   "id": "b0e3b6aa-ff86-4f73-81b0-3fb848518cfd",
   "metadata": {},
   "outputs": [],
   "source": [
    "#查看相册遗漏部分"
   ]
  },
  {
   "cell_type": "code",
   "execution_count": 68,
   "id": "5f3a14f8-d393-4a71-bd1b-d5b92ebf7f7a",
   "metadata": {},
   "outputs": [
    {
     "data": {
      "text/plain": [
       "array([0., 0., 0.])"
      ]
     },
     "execution_count": 68,
     "metadata": {},
     "output_type": "execute_result"
    }
   ],
   "source": [
    "np.zeros([3])"
   ]
  },
  {
   "cell_type": "code",
   "execution_count": 72,
   "id": "69893fa4-09ad-44cb-930b-f4095231dceb",
   "metadata": {},
   "outputs": [
    {
     "data": {
      "text/plain": [
       "array([1., 1., 1.])"
      ]
     },
     "execution_count": 72,
     "metadata": {},
     "output_type": "execute_result"
    }
   ],
   "source": [
    "np.ones([3])"
   ]
  },
  {
   "cell_type": "code",
   "execution_count": null,
   "id": "c2f1254c-d1b5-48bc-9b2b-c19085a5bf70",
   "metadata": {},
   "outputs": [],
   "source": []
  },
  {
   "cell_type": "code",
   "execution_count": 64,
   "id": "1129e9a1-9af4-4947-81a9-3258f196db37",
   "metadata": {},
   "outputs": [],
   "source": [
    "myzeros = np.zeros([3,3])"
   ]
  },
  {
   "cell_type": "code",
   "execution_count": 66,
   "id": "c951ed05-aa39-486b-b1c5-3012bc2e93f2",
   "metadata": {},
   "outputs": [
    {
     "data": {
      "text/plain": [
       "array([[0., 0., 0.],\n",
       "       [0., 0., 0.],\n",
       "       [0., 0., 0.]])"
      ]
     },
     "execution_count": 66,
     "metadata": {},
     "output_type": "execute_result"
    }
   ],
   "source": [
    "myzeros"
   ]
  },
  {
   "cell_type": "code",
   "execution_count": 76,
   "id": "50da0378-07c2-400f-b749-f988c9f3568e",
   "metadata": {},
   "outputs": [],
   "source": [
    "myones = np.ones([3,3])"
   ]
  },
  {
   "cell_type": "code",
   "execution_count": 80,
   "id": "f63d7fbc-d022-4dc5-a9a3-f066bf696567",
   "metadata": {},
   "outputs": [],
   "source": [
    "xmat = 2 * myones + myzeros"
   ]
  },
  {
   "cell_type": "code",
   "execution_count": 82,
   "id": "829724f4-16f9-4d24-bf89-110469ea8d39",
   "metadata": {},
   "outputs": [
    {
     "data": {
      "text/plain": [
       "array([[2., 2., 2.],\n",
       "       [2., 2., 2.],\n",
       "       [2., 2., 2.]])"
      ]
     },
     "execution_count": 82,
     "metadata": {},
     "output_type": "execute_result"
    }
   ],
   "source": [
    "xmat"
   ]
  },
  {
   "cell_type": "code",
   "execution_count": 84,
   "id": "773ca676-9384-47d4-b305-7c2354d54fe9",
   "metadata": {},
   "outputs": [
    {
     "data": {
      "text/plain": [
       "array([[ 4,  0,  0,  0],\n",
       "       [ 0,  4,  0,  0],\n",
       "       [ 0,  0,  4,  0],\n",
       "       [ 0,  0,  0, 44]])"
      ]
     },
     "execution_count": 84,
     "metadata": {},
     "output_type": "execute_result"
    }
   ],
   "source": [
    "np.diag([4,4,4,44])"
   ]
  },
  {
   "cell_type": "code",
   "execution_count": 86,
   "id": "46ab0752-ed22-4076-8bab-34cb215c8dac",
   "metadata": {},
   "outputs": [],
   "source": [
    "mylols = [mylist, mylist]"
   ]
  },
  {
   "cell_type": "code",
   "execution_count": 88,
   "id": "c055ef60-2936-4a15-b8bf-cd079cd2523f",
   "metadata": {},
   "outputs": [
    {
     "data": {
      "text/plain": [
       "[[1, 2, 3], [1, 2, 3]]"
      ]
     },
     "execution_count": 88,
     "metadata": {},
     "output_type": "execute_result"
    }
   ],
   "source": [
    "mylols"
   ]
  },
  {
   "cell_type": "code",
   "execution_count": 105,
   "id": "c6cc32a1-c35d-404c-9ef2-d51c818c7693",
   "metadata": {},
   "outputs": [],
   "source": [
    "my2darray = np.array(mylols)"
   ]
  },
  {
   "cell_type": "code",
   "execution_count": 107,
   "id": "6dbf4ba0-d6a6-4aac-ad7b-0c6e9ee5cec8",
   "metadata": {},
   "outputs": [
    {
     "data": {
      "text/plain": [
       "array([[1, 2, 3],\n",
       "       [1, 2, 3]])"
      ]
     },
     "execution_count": 107,
     "metadata": {},
     "output_type": "execute_result"
    }
   ],
   "source": [
    "my2darray"
   ]
  },
  {
   "cell_type": "code",
   "execution_count": 109,
   "id": "21af7966-befa-4f2b-b2db-1e563b0dd56a",
   "metadata": {},
   "outputs": [
    {
     "ename": "NameError",
     "evalue": "name 'myarray2' is not defined",
     "output_type": "error",
     "traceback": [
      "\u001b[0;31m---------------------------------------------------------------------------\u001b[0m",
      "\u001b[0;31mNameError\u001b[0m                                 Traceback (most recent call last)",
      "Cell \u001b[0;32mIn[109], line 1\u001b[0m\n\u001b[0;32m----> 1\u001b[0m myarray2\n",
      "\u001b[0;31mNameError\u001b[0m: name 'myarray2' is not defined"
     ]
    }
   ],
   "source": [
    "myarray2"
   ]
  },
  {
   "cell_type": "code",
   "execution_count": 113,
   "id": "c6b6e06d-0ee6-48d8-b2ca-a838f89fd996",
   "metadata": {},
   "outputs": [
    {
     "ename": "NameError",
     "evalue": "name 'myarray2' is not defined",
     "output_type": "error",
     "traceback": [
      "\u001b[0;31m---------------------------------------------------------------------------\u001b[0m",
      "\u001b[0;31mNameError\u001b[0m                                 Traceback (most recent call last)",
      "Cell \u001b[0;32mIn[113], line 1\u001b[0m\n\u001b[0;32m----> 1\u001b[0m myarray2[\u001b[38;5;241m1\u001b[39m:\u001b[38;5;241m1\u001b[39m]\n",
      "\u001b[0;31mNameError\u001b[0m: name 'myarray2' is not defined"
     ]
    }
   ],
   "source": [
    "myarray2[1:1]"
   ]
  },
  {
   "cell_type": "code",
   "execution_count": null,
   "id": "a92092c3-0c4f-4252-9ef5-29b848629447",
   "metadata": {},
   "outputs": [],
   "source": []
  },
  {
   "cell_type": "code",
   "execution_count": null,
   "id": "042e2e17-0e49-4139-a413-9bd6d9245d7b",
   "metadata": {},
   "outputs": [],
   "source": []
  },
  {
   "cell_type": "code",
   "execution_count": null,
   "id": "8023afd9-2f12-4680-9ef2-a1c3a3beaeab",
   "metadata": {},
   "outputs": [],
   "source": []
  },
  {
   "cell_type": "code",
   "execution_count": null,
   "id": "dc5f165e-c2da-4e81-a60a-5e8e58b81f3e",
   "metadata": {},
   "outputs": [],
   "source": []
  },
  {
   "cell_type": "code",
   "execution_count": null,
   "id": "699d843f-7771-40fb-bc82-d01ce5094635",
   "metadata": {},
   "outputs": [],
   "source": []
  },
  {
   "cell_type": "code",
   "execution_count": null,
   "id": "aaa46adc-a321-48c7-b418-8319e28accee",
   "metadata": {},
   "outputs": [],
   "source": []
  },
  {
   "cell_type": "code",
   "execution_count": null,
   "id": "3088fca9-509f-404a-9c75-e622b61a4b4d",
   "metadata": {},
   "outputs": [],
   "source": []
  },
  {
   "cell_type": "code",
   "execution_count": null,
   "id": "4799060c-c256-476f-8032-ae920226ddf5",
   "metadata": {},
   "outputs": [],
   "source": []
  },
  {
   "cell_type": "code",
   "execution_count": null,
   "id": "5c961646-4347-4c57-a010-058a3e9829b7",
   "metadata": {},
   "outputs": [],
   "source": []
  },
  {
   "cell_type": "code",
   "execution_count": null,
   "id": "f2fbd340-2b6c-4671-a108-52b7ca5367fd",
   "metadata": {},
   "outputs": [],
   "source": []
  },
  {
   "cell_type": "code",
   "execution_count": null,
   "id": "27289622-40ed-41df-a4bf-1f7d9bcef6ad",
   "metadata": {},
   "outputs": [],
   "source": []
  },
  {
   "cell_type": "code",
   "execution_count": null,
   "id": "58f39c74-28b6-4fe6-a19c-425209f1603a",
   "metadata": {},
   "outputs": [],
   "source": []
  }
 ],
 "metadata": {
  "kernelspec": {
   "display_name": "Python 3 (ipykernel)",
   "language": "python",
   "name": "python3"
  },
  "language_info": {
   "codemirror_mode": {
    "name": "ipython",
    "version": 3
   },
   "file_extension": ".py",
   "mimetype": "text/x-python",
   "name": "python",
   "nbconvert_exporter": "python",
   "pygments_lexer": "ipython3",
   "version": "3.12.4"
  }
 },
 "nbformat": 4,
 "nbformat_minor": 5
}
